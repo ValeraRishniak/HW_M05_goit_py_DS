{
 "cells": [
  {
   "cell_type": "code",
   "execution_count": 1,
   "id": "9db0164f-c0c2-47b5-823f-2855241b5ad7",
   "metadata": {},
   "outputs": [],
   "source": [
    "import os\n",
    "import pandas as pd\n",
    "from sklearn.svm import SVC\n",
    "from sklearn.ensemble import RandomForestClassifier\n",
    "from sklearn.metrics import accuracy_score\n",
    "from sklearn.model_selection import train_test_split"
   ]
  },
  {
   "cell_type": "markdown",
   "id": "ea3cd99f-6804-4201-b574-d01056ed1e65",
   "metadata": {},
   "source": [
    "#### Створюємо один  датасет по всіх даних"
   ]
  },
  {
   "cell_type": "code",
   "execution_count": 9,
   "id": "e2040531-1847-45d1-8c6b-ceb56fe2acea",
   "metadata": {},
   "outputs": [],
   "source": [
    "data_folder = 'data'\n",
    "\n",
    "all_data = pd.DataFrame()\n",
    "\n",
    "for activity_folder in os.listdir(data_folder):\n",
    "    activity_path = os.path.join(data_folder, activity_folder)\n",
    "    if not os.path.isdir(activity_path):\n",
    "        continue\n",
    "    \n",
    "    for file_name in os.listdir(activity_path):\n",
    "        file_path = os.path.join(activity_path, file_name)\n",
    "        if not file_name.endswith('.csv'):\n",
    "            continue\n",
    "        \n",
    "        df = pd.read_csv(file_path)\n",
    "        \n",
    "        df['activity'] = activity_folder\n",
    "        \n",
    "        all_data = pd.concat([all_data, df], ignore_index=True)\n",
    "\n",
    "all_data = all_data.sample(frac=1).reset_index(drop=True)\n",
    "\n",
    "X = all_data.drop('activity', axis=1)\n",
    "y = all_data['activity']"
   ]
  },
  {
   "cell_type": "markdown",
   "id": "0ad90455-bebf-4175-81c0-d5ce830c6c79",
   "metadata": {},
   "source": [
    "#### Робимо навчальні та тестові данні"
   ]
  },
  {
   "cell_type": "code",
   "execution_count": 8,
   "id": "26cad225-0742-43e7-9e89-53f4aa716e05",
   "metadata": {},
   "outputs": [],
   "source": [
    "X_train, X_test, y_train, y_test = train_test_split(X, y, test_size=0.2, random_state=42)"
   ]
  },
  {
   "cell_type": "markdown",
   "id": "a83d52dd-6001-42f6-8649-044a384829bb",
   "metadata": {},
   "source": [
    "#### Часові ознаки"
   ]
  },
  {
   "cell_type": "code",
   "execution_count": 13,
   "id": "8e610c7f-574d-4658-bac0-11cb88411fa0",
   "metadata": {},
   "outputs": [],
   "source": [
    "X_train['time_mean'] = X_train.mean(axis=1)\n",
    "X_test['time_mean'] = X_test.mean(axis=1)"
   ]
  },
  {
   "cell_type": "markdown",
   "id": "f9c9f157-e752-4ab0-bba6-1bf652f2ebb4",
   "metadata": {},
   "source": [
    "#### Класифікації"
   ]
  },
  {
   "cell_type": "code",
   "execution_count": 14,
   "id": "b9dafe96-bf16-4f91-9558-f982553f99a9",
   "metadata": {},
   "outputs": [],
   "source": [
    "svm_model = SVC()\n",
    "rf_model = RandomForestClassifier()"
   ]
  },
  {
   "cell_type": "markdown",
   "id": "66cef137-030a-46e6-af86-467623bdca73",
   "metadata": {},
   "source": [
    "#### Тренування моделей"
   ]
  },
  {
   "cell_type": "code",
   "execution_count": null,
   "id": "d6d4cae8-9177-417b-a341-64d50f9b9f06",
   "metadata": {},
   "outputs": [],
   "source": [
    "svm_model.fit(X_train, y_train)"
   ]
  },
  {
   "cell_type": "code",
   "execution_count": null,
   "id": "9565eb08-7ed2-4104-98f5-1ee1eb4f72dd",
   "metadata": {},
   "outputs": [],
   "source": [
    "rf_model.fit(X_train, y_train)"
   ]
  },
  {
   "cell_type": "markdown",
   "id": "7e2e109f-6aff-47cc-aa25-5f8ecbe94ac6",
   "metadata": {},
   "source": [
    "#### Прогнозування на тестових даних"
   ]
  },
  {
   "cell_type": "code",
   "execution_count": null,
   "id": "737234b2-7a3f-4882-89e9-7308dcc5e344",
   "metadata": {},
   "outputs": [],
   "source": [
    "svm_pred = svm_model.predict(X_test)"
   ]
  },
  {
   "cell_type": "code",
   "execution_count": null,
   "id": "9a375798-b927-457f-b6c7-6171c998a029",
   "metadata": {},
   "outputs": [],
   "source": [
    "rf_pred = rf_model.predict(X_test)"
   ]
  },
  {
   "cell_type": "markdown",
   "id": "7df6a501-25bd-4cee-83a7-ae64248802a6",
   "metadata": {},
   "source": [
    "#### Оцінка результатів"
   ]
  },
  {
   "cell_type": "code",
   "execution_count": null,
   "id": "a75b3ed5-6282-4f59-bb7a-886800d25462",
   "metadata": {},
   "outputs": [],
   "source": [
    "svm_accuracy = accuracy_score(y_test, svm_pred)\n",
    "rf_accuracy = accuracy_score(y_test, rf_pred)\n",
    "\n",
    "print(\"Accuracy (SVM):\", svm_accuracy)\n",
    "print(\"Accuracy (Random Forest):\", rf_accuracy)"
   ]
  },
  {
   "cell_type": "code",
   "execution_count": null,
   "id": "e75bee1d-43c0-4460-a2b1-85ec1c4d48ad",
   "metadata": {},
   "outputs": [],
   "source": [
    "from sklearn.metrics import classification_report\n",
    "\n",
    "svm_report = classification_report(y_test, svm_pred)\n",
    "print(\"SVM Results:\")\n",
    "print(svm_report)\n",
    "\n",
    "rf_report = classification_report(y_test, rf_pred)\n",
    "print(\"Random Forest Results:\")\n",
    "print(rf_report)"
   ]
  },
  {
   "cell_type": "code",
   "execution_count": null,
   "id": "cf1133bf-b1d5-4398-8700-3eacbdd60e11",
   "metadata": {},
   "outputs": [],
   "source": []
  }
 ],
 "metadata": {
  "kernelspec": {
   "display_name": "Python 3 (ipykernel)",
   "language": "python",
   "name": "python3"
  },
  "language_info": {
   "codemirror_mode": {
    "name": "ipython",
    "version": 3
   },
   "file_extension": ".py",
   "mimetype": "text/x-python",
   "name": "python",
   "nbconvert_exporter": "python",
   "pygments_lexer": "ipython3",
   "version": "3.12.0"
  }
 },
 "nbformat": 4,
 "nbformat_minor": 5
}
